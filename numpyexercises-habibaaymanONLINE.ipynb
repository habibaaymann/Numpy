{
 "cells": [
  {
   "cell_type": "markdown",
   "metadata": {
    "_uuid": "7dac2651304bbdd274a99291c17f3be1e84c222b"
   },
   "source": [
    "# 28 numpy exercises\n",
    "\n",
    "This is a collection of exercises that have been collected in the numpy."
   ]
  },
  {
   "cell_type": "markdown",
   "metadata": {
    "_uuid": "77978f9afb5f957440f180861ccb06c2f644c317"
   },
   "source": [
    "#### 1. Create a null vector of size 10 (★☆☆)"
   ]
  },
  {
   "cell_type": "code",
   "execution_count": 2,
   "metadata": {
    "_uuid": "beeb301d90b0fd6cb0f015969c969870bee981e8"
   },
   "outputs": [],
   "source": [
    "import numpy as np\n",
    "arr = np.zeros(10)\n"
   ]
  },
  {
   "cell_type": "markdown",
   "metadata": {
    "_uuid": "c75ba6ea73f0a23f837c1553a0f564fbb8748557"
   },
   "source": [
    "#### 2.  Create a null vector of size 10 but the fifth value which is 1 (★☆☆)"
   ]
  },
  {
   "cell_type": "code",
   "execution_count": null,
   "metadata": {
    "_uuid": "a916d1332f7e1d7499fd9de3bb422651711df025"
   },
   "outputs": [],
   "source": [
    "arr[5]=1"
   ]
  },
  {
   "cell_type": "markdown",
   "metadata": {
    "_uuid": "118478fd9f22dc99584c1517078f1cdd4a4b36fc"
   },
   "source": [
    "#### 3.  Create a vector with values ranging from 10 to 49 (★☆☆)"
   ]
  },
  {
   "cell_type": "code",
   "execution_count": null,
   "metadata": {
    "_uuid": "ac7cbc58129168a298298ae6d3a756a2a94c2a5d"
   },
   "outputs": [],
   "source": [
    "arr = np.arange(10, 49)"
   ]
  },
  {
   "cell_type": "markdown",
   "metadata": {
    "_uuid": "1c153cfc18b4c413b602d9fa073a4c049f1e703b"
   },
   "source": [
    "#### 4.  Reverse a vector (first element becomes last) (★☆☆)"
   ]
  },
  {
   "cell_type": "code",
   "execution_count": null,
   "metadata": {
    "_uuid": "f1498235d2137116b1a7fabc6626dc8549235aba"
   },
   "outputs": [],
   "source": [
    "arr_reverse = arr[::-1]"
   ]
  },
  {
   "cell_type": "markdown",
   "metadata": {
    "_uuid": "647011edcdd237ef4bfa0ec4ce3a108805bbd11f"
   },
   "source": [
    "#### 5.  Create a 3x3 matrix with values ranging from 0 to 8 (★☆☆)"
   ]
  },
  {
   "cell_type": "code",
   "execution_count": null,
   "metadata": {
    "_uuid": "d6bf86992dbc3539332876b2caf973bafdb9a790"
   },
   "outputs": [],
   "source": [
    "arr=np.random.randint(0,8,(3,3))"
   ]
  },
  {
   "cell_type": "markdown",
   "metadata": {
    "_uuid": "c7d5733bee779737b5ad4250b257d0a1423ffbff"
   },
   "source": [
    "#### 6. Find indices of non-zero elements from \\[1,2,0,0,4,0\\] (★☆☆)"
   ]
  },
  {
   "cell_type": "code",
   "execution_count": null,
   "metadata": {
    "_uuid": "e6e0544a4326eaf8f3ea6390a16422a9844d48fc"
   },
   "outputs": [],
   "source": [
    "arr=np.array([1,2,0,0,4,0])\n",
    "print(np.nonzero(arr))"
   ]
  },
  {
   "cell_type": "markdown",
   "metadata": {
    "_uuid": "ab5c1aaf0377ab923c6dbb7452671c181544734a"
   },
   "source": [
    "#### 7. Create a 3x3 identity matrix (★☆☆)"
   ]
  },
  {
   "cell_type": "code",
   "execution_count": null,
   "metadata": {
    "_uuid": "0e10bd7b228cff4c485d80142fa5afcea12eb0e1"
   },
   "outputs": [],
   "source": [
    "arr = np.eye(3)"
   ]
  },
  {
   "cell_type": "markdown",
   "metadata": {
    "_uuid": "9c3d53fd277d07937bc04838c4ca57a0aaaec498"
   },
   "source": [
    "#### 8. Create a 3x3x3 array with random values (★☆☆)"
   ]
  },
  {
   "cell_type": "code",
   "execution_count": null,
   "metadata": {
    "_uuid": "77840458ba47b330dd84bab7a119e85299856c57",
    "collapsed": true
   },
   "outputs": [],
   "source": [
    "arr=np.array(np.random.randint(0,10000,(3,3,3)))"
   ]
  },
  {
   "cell_type": "markdown",
   "metadata": {
    "_uuid": "886bef95cd1aa9af4133902b45b50127b5da54cb"
   },
   "source": [
    "#### 9. Create a 10x10 array with random values and find the minimum and maximum values (★☆☆)"
   ]
  },
  {
   "cell_type": "code",
   "execution_count": null,
   "metadata": {
    "_uuid": "a8c13dc011c6afb824c3a7031330b6bd1a77e497"
   },
   "outputs": [],
   "source": [
    "arr = np.random.random((5,5))\n",
    "print(arr)\n",
    "print(np.min(arr))\n",
    "print(np.max(arr))"
   ]
  },
  {
   "cell_type": "markdown",
   "metadata": {
    "_uuid": "07db1e47dcff92113a6d4c696e92a5578b20d89f"
   },
   "source": [
    "#### 10. Create a random vector of size 30 and find the mean value (★☆☆)"
   ]
  },
  {
   "cell_type": "code",
   "execution_count": null,
   "metadata": {
    "_uuid": "a6533f70b28d583e6e1926a0e3e668b465d6ef6c"
   },
   "outputs": [],
   "source": [
    "arr = np.array(np.random.random(30))\n",
    "print(arr)\n",
    "print(np.mean(arr))"
   ]
  },
  {
   "cell_type": "markdown",
   "metadata": {
    "_uuid": "2234dffb1dffc779d1d24f269da232a560848ad0"
   },
   "source": [
    "#### 11. Create a 2d array with 1 on the border and 0 inside (★☆☆)"
   ]
  },
  {
   "cell_type": "code",
   "execution_count": null,
   "metadata": {
    "_uuid": "03bef7c11ab2593768ce88331a92c0c7cc10d463"
   },
   "outputs": [],
   "source": [
    "x[1:-1,1:-1] = 0 #important --->>>>>>>>>>>>>>>>>"
   ]
  },
  {
   "cell_type": "markdown",
   "metadata": {
    "_uuid": "6e24eff853c1ead319eba0adf0efdf31a58c6944"
   },
   "source": [
    "#### 12. How to add a border (filled with 0's) around an existing array? (★☆☆)"
   ]
  },
  {
   "cell_type": "code",
   "execution_count": null,
   "metadata": {
    "_uuid": "573dd1238aef49fed4a9cfeb645c09119a307916"
   },
   "outputs": [],
   "source": [
    "np.pad(arr, pad_width=1) #------>>"
   ]
  },
  {
   "cell_type": "markdown",
   "metadata": {
    "_uuid": "e22023622e0ec70b97ca378772dae42cff45d73c"
   },
   "source": [
    "#### 13. Create a 5x5 matrix with values 1,2,3,4 just below the diagonal (★☆☆)"
   ]
  },
  {
   "cell_type": "code",
   "execution_count": 36,
   "metadata": {
    "_uuid": "f1aaa690119ec31eb516c96023250ff10f2800be"
   },
   "outputs": [
    {
     "name": "stdout",
     "output_type": "stream",
     "text": [
      "[[0 0 0 0 0]\n",
      " [0 0 1 0 0]\n",
      " [0 0 0 2 0]\n",
      " [0 0 0 0 3]\n",
      " [0 0 0 0 0]]\n"
     ]
    }
   ],
   "source": [
    "#1 upper 0 lower diag\n",
    "arr=np.diag(np.arange(4),k=1)\n",
    "print(arr)"
   ]
  },
  {
   "cell_type": "markdown",
   "metadata": {
    "_uuid": "2e1e85761e1eafa4cd8986a3aa28763f2b8197e2"
   },
   "source": [
    "#### 14. Create a 8x8 matrix and fill it with a checkerboard pattern (★☆☆)"
   ]
  },
  {
   "cell_type": "code",
   "execution_count": 39,
   "metadata": {
    "_uuid": "467504e8796a218a3faa0a787775d8aa577f4c32"
   },
   "outputs": [
    {
     "name": "stdout",
     "output_type": "stream",
     "text": [
      "[[0 0 0 0 0 0 0 0]\n",
      " [1 0 1 0 1 0 1 0]\n",
      " [0 0 0 0 0 0 0 0]\n",
      " [1 0 1 0 1 0 1 0]\n",
      " [0 0 0 0 0 0 0 0]\n",
      " [1 0 1 0 1 0 1 0]\n",
      " [0 0 0 0 0 0 0 0]\n",
      " [1 0 1 0 1 0 1 0]]\n"
     ]
    }
   ],
   "source": [
    "arr= np.zeros((8,8),dtype=int) ############-->>>.\n",
    "arr[1::2,::2]=1\n",
    "print(arr)"
   ]
  },
  {
   "cell_type": "markdown",
   "metadata": {
    "_uuid": "659926bf5bf80842361a658fd0f84bf24084fbf3"
   },
   "source": [
    "#### 15. Multiply a 5x3 matrix by a 3x2 matrix (real matrix product) (★☆☆)"
   ]
  },
  {
   "cell_type": "code",
   "execution_count": null,
   "metadata": {
    "_uuid": "8be73ba1bd9778d487ac20ef5658c7b8e57c3d67"
   },
   "outputs": [],
   "source": [
    " np.dot(np.ones((5,3)), np.ones((3,2)))"
   ]
  },
  {
   "cell_type": "markdown",
   "metadata": {
    "_uuid": "0a65567844ac53a18dbb387a8694da2b1c78294a"
   },
   "source": [
    "#### 15. Given a 1D array, negate all elements which are between 3 and 8, in place. (★☆☆)"
   ]
  },
  {
   "cell_type": "code",
   "execution_count": 3,
   "metadata": {
    "_uuid": "d48512adb16f06371f651dd8dc1ae9ea1c3586b1"
   },
   "outputs": [
    {
     "name": "stdout",
     "output_type": "stream",
     "text": [
      "[ 0  1  2  3 -4 -5 -6 -7  8  9 10]\n"
     ]
    }
   ],
   "source": [
    "arr = np.arange(11)\n",
    "x=(arr>3)&(arr<8)\n",
    "arr[x]*=-1\n",
    "print(arr)"
   ]
  },
  {
   "cell_type": "markdown",
   "metadata": {
    "_uuid": "e49ca0d2249b4a5cf25b264e42c6feb3057889ed"
   },
   "source": [
    "#### 16. How to find common values between two arrays? (★☆☆)"
   ]
  },
  {
   "cell_type": "code",
   "execution_count": null,
   "metadata": {
    "_uuid": "b7a1b2802e4c4a2ac5baf737e2065c55bef226b6"
   },
   "outputs": [],
   "source": [
    "np.intersect1d(ar1, ar2) #--------->>>>>>>>>>>>>>>>>>>>."
   ]
  },
  {
   "cell_type": "markdown",
   "metadata": {
    "_uuid": "1acff22fb998865b58d5a9b37b0a5ce5b7f13387"
   },
   "source": [
    "#### 17. Create a 5x5 matrix with row values ranging from 0 to 4 (★★☆)"
   ]
  },
  {
   "cell_type": "code",
   "execution_count": 5,
   "metadata": {
    "_uuid": "728c78dc7d9477e3300f58d589fbbc888df3cecb"
   },
   "outputs": [
    {
     "name": "stdout",
     "output_type": "stream",
     "text": [
      "[[0. 1. 2. 3. 4.]\n",
      " [0. 1. 2. 3. 4.]\n",
      " [0. 1. 2. 3. 4.]\n",
      " [0. 1. 2. 3. 4.]\n",
      " [0. 1. 2. 3. 4.]]\n"
     ]
    }
   ],
   "source": [
    "arr= np.zeros((5,5))\n",
    "arr+=np.arange(5)\n",
    "print(arr)"
   ]
  },
  {
   "cell_type": "markdown",
   "metadata": {
    "_uuid": "34f5d6e2e269678714f1e5aafec8a92d6411ecd3"
   },
   "source": [
    "#### 18. Create a random vector of size 10 and sort it (★★☆)"
   ]
  },
  {
   "cell_type": "code",
   "execution_count": null,
   "metadata": {
    "_uuid": "650bd640404dd8cfdbeb0d91b8fc5ea844ee60a8"
   },
   "outputs": [],
   "source": [
    "arr = np.random.radint(10)\n",
    "arr.sort()"
   ]
  },
  {
   "cell_type": "markdown",
   "metadata": {
    "_uuid": "0502011982ec9de8f998bdcc76ff2d00dc9bad6e"
   },
   "source": [
    "#### 19. Consider two random array A and B, check if they are equal (★★☆)"
   ]
  },
  {
   "cell_type": "code",
   "execution_count": null,
   "metadata": {
    "_uuid": "bc542c3112954260eac0bcf08bc8b0ae2ce0ae33"
   },
   "outputs": [],
   "source": [
    "np.allclose(A, B) #------->>>>>>>>>>>>>>>>>>>"
   ]
  },
  {
   "cell_type": "markdown",
   "metadata": {
    "_uuid": "353f854c6c99f2889b0d31cc69bc1fd7fccd0fe1"
   },
   "source": [
    "#### 20. Create random vector of size 10 and replace the maximum value by 0 (★★☆)"
   ]
  },
  {
   "cell_type": "code",
   "execution_count": 11,
   "metadata": {
    "_uuid": "fd9c6de99887f58497e8880f38b8aab24beaef6a"
   },
   "outputs": [
    {
     "name": "stdout",
     "output_type": "stream",
     "text": [
      "[0.4617973  0.32579401 0.6164936  0.06487492 0.26167077 0.27921824\n",
      " 0.38176169 0.         0.9058602  0.27354367]\n"
     ]
    }
   ],
   "source": [
    "arr= np.random.random(10)\n",
    "arr[arr.argmax()] = 0\n",
    "print(arr)"
   ]
  },
  {
   "cell_type": "markdown",
   "metadata": {
    "_uuid": "879952e7f6a37f63e8ebadf4baa516325eeb60c6"
   },
   "source": [
    "#### 21. Print the minimum and maximum representable value for each numpy scalar type (★★☆)"
   ]
  },
  {
   "cell_type": "code",
   "execution_count": null,
   "metadata": {
    "_uuid": "c0582da4b3a82183e3230a0249e9a07bb9329698"
   },
   "outputs": [],
   "source": []
  },
  {
   "cell_type": "markdown",
   "metadata": {
    "_uuid": "3cd7d90b37471536a03b27117c01d82a1ed1439c"
   },
   "source": [
    "#### 22. How to find the closest value (to a given scalar) in a vector? (★★☆)"
   ]
  },
  {
   "cell_type": "code",
   "execution_count": 23,
   "metadata": {
    "_uuid": "2d0087af5d396d4b823122485c006f0e4a8f5b86"
   },
   "outputs": [
    {
     "name": "stdout",
     "output_type": "stream",
     "text": [
      "48\n"
     ]
    }
   ],
   "source": [
    "#uniform-->return the random samples as numpy array\n",
    "x=np.arange(100)\n",
    "y=np.random.uniform(0,100)\n",
    "z=(np.abs(x-y)).argmin()\n",
    "print(x[z])"
   ]
  },
  {
   "cell_type": "markdown",
   "metadata": {
    "_uuid": "35b4e9307a72301c43b077924e4674cdee69fdf0"
   },
   "source": [
    "#### 23. How to convert a float (32 bits) array into an integer (32 bits) in place?"
   ]
  },
  {
   "cell_type": "code",
   "execution_count": null,
   "metadata": {
    "_uuid": "c67695d2efff4f63dbe4037694504a84deb8d4b9"
   },
   "outputs": [],
   "source": [
    "#################\n"
   ]
  },
  {
   "cell_type": "markdown",
   "metadata": {
    "_uuid": "2069af8a433b9e7ed0adba61834ee1c08a691e86"
   },
   "source": [
    "#### 24. What is the equivalent of enumerate for numpy arrays? (★★☆)"
   ]
  },
  {
   "cell_type": "code",
   "execution_count": null,
   "metadata": {
    "_uuid": "336bd26b33356fb424875e33319f8bd857b29f30"
   },
   "outputs": [],
   "source": []
  },
  {
   "cell_type": "markdown",
   "metadata": {
    "_uuid": "ad23d8b28a5016197192b4a6ecdfa61d3c54f49f"
   },
   "source": [
    "#### 25. Subtract the mean of each row of a matrix (★★☆)"
   ]
  },
  {
   "cell_type": "code",
   "execution_count": 21,
   "metadata": {
    "_uuid": "62937a93af1f4bd2ee201a0a28d92ad2e39aeadf"
   },
   "outputs": [
    {
     "name": "stdout",
     "output_type": "stream",
     "text": [
      "[[ 0.27227229  0.24133415 -0.02099357 -0.02736603 -0.43641007  0.03620031\n",
      "  -0.33894943  0.32915934 -0.23254273  0.17729574]\n",
      " [ 0.12049813  0.36682971  0.36009018 -0.29876139  0.35257827 -0.34274042\n",
      "  -0.51190452  0.26790022 -0.50276436  0.18827418]\n",
      " [-0.22922619 -0.46954653  0.40543619  0.21826742  0.50585192 -0.45592063\n",
      "   0.35096446 -0.28662513 -0.45906809  0.41986657]\n",
      " [-0.18282772  0.03414589  0.33496058  0.09823138 -0.4184589   0.25619469\n",
      "   0.16279526 -0.3164249  -0.34240077  0.37378448]\n",
      " [ 0.28412414 -0.30573978 -0.53163328  0.18423142 -0.04760866  0.34555008\n",
      "  -0.0229665  -0.20592826  0.19038975  0.10958108]]\n"
     ]
    }
   ],
   "source": [
    "#keepdims--->>>>enables you to control the dimensions of the output\n",
    "arr=np.random.rand(5,10)\n",
    "sub=arr-arr.mean(axis=1,keepdims=True)\n",
    "print(sub)"
   ]
  },
  {
   "cell_type": "markdown",
   "metadata": {
    "_uuid": "620cc111a526a41f264e47d9738fb2d27ef1aa6e"
   },
   "source": [
    "#### 26. How to get the diagonal of a dot product? (★★★)"
   ]
  },
  {
   "cell_type": "code",
   "execution_count": 27,
   "metadata": {
    "_uuid": "752296a67bbe85f6b35a51255964822fd4373a36"
   },
   "outputs": [
    {
     "name": "stdout",
     "output_type": "stream",
     "text": [
      "[ 2.54133536e-01 -1.21936625e+01  1.33261245e+01 -1.36289171e+00\n",
      "  2.13149888e-01  7.93462445e+00  1.42314072e+01  6.90186901e+00\n",
      "  4.21419651e+00 -1.33419190e+00  4.46594598e+00 -7.26754950e+00\n",
      "  7.18977807e-01 -3.90218834e+01  7.16358958e+00 -2.08217488e+00\n",
      "  6.78795492e+00 -2.22282882e+01 -2.26685740e+01  1.24039440e+01\n",
      " -7.29070784e+00 -1.96136692e+01 -3.31465575e+01 -6.52259456e+00\n",
      " -2.59680766e+00 -1.39404976e+01 -2.04559065e+01  7.17447272e+00\n",
      " -7.76185053e+00 -7.11545046e+00 -1.16191273e+01  1.09632045e+01\n",
      "  1.25731951e+01  3.37896597e+00 -8.19917944e+00 -5.68924851e+00\n",
      "  1.02089204e+00 -3.91683086e-01 -5.90832151e+00  5.86710868e+00\n",
      " -1.15390299e+01 -1.90892944e+01  1.83006343e+01  1.67959113e+01\n",
      " -1.06302460e+01  5.74152464e+00  1.54709433e+00  1.61553258e+01\n",
      "  2.99300516e+01 -1.64982124e+01  1.60186947e+01 -6.22426053e+00\n",
      "  1.99564671e-04  1.68792352e+01  1.55907401e+01 -1.00351403e+01\n",
      "  1.58044857e+01 -3.18336738e+01  1.45916391e+01 -1.74402853e+01\n",
      "  3.03423230e+01 -1.76688182e+00  6.73463906e+00  2.17095494e+01\n",
      "  6.66638338e+00 -3.16770628e+01  6.25756973e+00 -7.10718455e+00\n",
      "  7.23155951e+00  2.14471054e+01  1.73394856e+01 -1.43711864e+01\n",
      " -2.60035024e+01 -7.24032030e+00  1.55934236e+00  7.18094578e+00\n",
      "  3.23779801e+01  2.20526206e+00 -3.09918769e+01 -5.96695842e+00\n",
      "  6.48237184e+00  1.49368389e+01  1.13898939e+01 -1.41189601e+01\n",
      " -4.07169217e+01  9.68037875e+00 -7.33796644e+00 -1.01884405e+01\n",
      "  3.38375359e+01 -2.25047746e+01  1.49767051e+00 -6.15654996e+00\n",
      " -4.26622540e+00  6.55331647e+00  2.01262907e+01 -2.47362069e+01\n",
      " -2.59462485e+01 -1.82242404e+00  8.67728214e-01 -7.21774116e+00]\n"
     ]
    }
   ],
   "source": [
    "arr1=np.random.randn(100,200)\n",
    "arr2=np.random.randn(200,200)\n",
    "diagonal=np.diag(np.dot(arr1,arr2))\n",
    "print(diagonal)"
   ]
  },
  {
   "cell_type": "markdown",
   "metadata": {
    "_uuid": "e117871c83cf8f95effaeaf57c8e39d342173ac8"
   },
   "source": [
    "#### 27. Consider the vector \\[1, 2, 3, 4, 5\\], how to build a new vector with 3 consecutive zeros interleaved between each value? (★★★)"
   ]
  },
  {
   "cell_type": "code",
   "execution_count": 30,
   "metadata": {
    "_uuid": "6ca8fdad8b10470dc10098a00b5a82df503b9f30"
   },
   "outputs": [
    {
     "name": "stdout",
     "output_type": "stream",
     "text": [
      "[1. 0. 0. 0. 2. 0. 0. 0. 3. 0. 0. 0. 4. 0. 0. 0. 5.]\n"
     ]
    }
   ],
   "source": [
    "arr=np.array([1,2,3,4,5])\n",
    "x=3\n",
    "new_arr=np.zeros(len(arr)+(len(arr)-1)*x)\n",
    "new_arr[::x+1]=arr #############-->>>>>>\n",
    "print(new_arr)\n"
   ]
  },
  {
   "cell_type": "markdown",
   "metadata": {
    "_uuid": "899841bbc67e2a7e0f51536f3191625078f29864"
   },
   "source": [
    "#### 28. How to swap two rows of an array? (★★★)"
   ]
  },
  {
   "cell_type": "code",
   "execution_count": 31,
   "metadata": {
    "_uuid": "c1e1056d07c1b9be34aa5c71beb522b57b450bc3"
   },
   "outputs": [
    {
     "name": "stdout",
     "output_type": "stream",
     "text": [
      "[[5 6 7 8]\n",
      " [1 2 3 4]]\n"
     ]
    }
   ],
   "source": [
    "arr=np.array([[1,2,3,4],[5,6,7,8]])\n",
    "arr[[0,1]]=arr[[1,0]]\n",
    "print(arr)"
   ]
  },
  {
   "cell_type": "code",
   "execution_count": null,
   "metadata": {},
   "outputs": [],
   "source": []
  }
 ],
 "metadata": {
  "kernelspec": {
   "display_name": "Python 3 (ipykernel)",
   "language": "python",
   "name": "python3"
  },
  "language_info": {
   "codemirror_mode": {
    "name": "ipython",
    "version": 3
   },
   "file_extension": ".py",
   "mimetype": "text/x-python",
   "name": "python",
   "nbconvert_exporter": "python",
   "pygments_lexer": "ipython3",
   "version": "3.9.12"
  },
  "vscode": {
   "interpreter": {
    "hash": "31f2aee4e71d21fbe5cf8b01ff0e069b9275f58929596ceb00d14d90e3e16cd6"
   }
  }
 },
 "nbformat": 4,
 "nbformat_minor": 1
}
